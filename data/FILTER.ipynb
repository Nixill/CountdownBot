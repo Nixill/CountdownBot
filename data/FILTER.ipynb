{
 "cells": [
  {
   "cell_type": "markdown",
   "metadata": {},
   "source": [
    "Source a list of valid English words and name it `legalwords.txt` (or anything except `conundrums.txt`, `exceptions.txt`, `games.json`, or `words.txt`). Put it in the bot's data folder. One list of English words can be found at [dwyl/english-words on GitHub](https://github.com/dwyl/english-words).\n",
    "\n",
    "Make sure the options in the first code cell are to your satisfaction. For example, disable the generation of `conundrums.txt` if you've sourced a different list.\n",
    "\n",
    "Then run all cells. You will be prompted to find the `legalwords.txt` file. Select it, and `words.txt` and `conundrums.txt` should both be created in that folder, as well as `exceptions.txt` and `games.json` if they don't already exist."
   ]
  },
  {
   "cell_type": "code",
   "execution_count": 1,
   "metadata": {
    "dotnet_interactive": {
     "language": "csharp"
    },
    "polyglot_notebook": {
     "kernelName": "csharp"
    },
    "vscode": {
     "languageId": "polyglot-notebook"
    }
   },
   "outputs": [],
   "source": [
    "const bool GENERATE_CONUNDRUMS = true;\n",
    "const bool GENERATE_WORD_LIST = true;"
   ]
  },
  {
   "cell_type": "code",
   "execution_count": 2,
   "metadata": {
    "dotnet_interactive": {
     "language": "csharp"
    },
    "polyglot_notebook": {
     "kernelName": "csharp"
    },
    "vscode": {
     "languageId": "polyglot-notebook"
    }
   },
   "outputs": [],
   "source": [
    "using Microsoft.DotNet.Interactive;\n",
    "using Microsoft.DotNet.Interactive.Formatting;\n",
    "using h = Microsoft.DotNet.Interactive.Formatting.PocketViewTags;\n",
    "\n",
    "using System.IO;"
   ]
  },
  {
   "cell_type": "code",
   "execution_count": 3,
   "metadata": {
    "dotnet_interactive": {
     "language": "csharp"
    },
    "polyglot_notebook": {
     "kernelName": "csharp"
    },
    "vscode": {
     "languageId": "polyglot-notebook"
    }
   },
   "outputs": [],
   "source": [
    "string file = await Kernel.GetInputAsync(\"Please select your legalwords.txt file.\", \"file\");"
   ]
  },
  {
   "cell_type": "code",
   "execution_count": 4,
   "metadata": {
    "dotnet_interactive": {
     "language": "csharp"
    },
    "polyglot_notebook": {
     "kernelName": "csharp"
    },
    "vscode": {
     "languageId": "polyglot-notebook"
    }
   },
   "outputs": [],
   "source": [
    "string folder = Path.GetDirectoryName(file);\n",
    "\n",
    "string[] words = File.ReadAllLines(file);\n",
    "\n",
    "words = words\n",
    "  .Select(w => w.ToUpper())\n",
    "  .Where(w => !w.Any(c => c switch {\n",
    "    >= 'A' and <= 'Z' => false,\n",
    "    _ => true\n",
    "  }))\n",
    "  .ToArray();\n",
    "\n",
    "if (GENERATE_CONUNDRUMS)\n",
    "{\n",
    "  var conundrums = words\n",
    "    .Where(x => x.Length == 9)\n",
    "    .GroupBy(x => x.Order())\n",
    "    .Where(g => g.Count() == 1)\n",
    "    .Select(g => g.Single());\n",
    "\n",
    "  File.WriteAllLines($@\"{folder}/conundrums.txt\", conundrums);\n",
    "}\n",
    "\n",
    "if (GENERATE_WORD_LIST)\n",
    "{\n",
    "  bool IsConsonant(char c) => c switch {\n",
    "    'B' or 'C' or 'D' or 'F' or 'G' or 'H' or 'J' or 'K' or 'L' or 'M' or 'N' or 'P' or 'Q' or 'R' or 'S' or 'T' or 'V' or 'W' or 'X' or 'Y' or 'Z' => true,\n",
    "    _ => false\n",
    "  };\n",
    "\n",
    "  bool IsVowel(char c) => c switch {\n",
    "    'A' or 'E' or 'I' or 'O' or 'U' => true,\n",
    "    _ => false\n",
    "  };\n",
    "\n",
    "  var roundWords = words\n",
    "    .Where(x => x.Length <= 9)\n",
    "    .Where(x => x.Where(IsConsonant).Count() < 7)\n",
    "    .Where(x => x.Where(IsVowel).Count() < 6);\n",
    "\n",
    "  File.WriteAllLines($@\"{folder}/words.txt\", roundWords);\n",
    "}\n",
    "\n",
    "if (!File.Exists($@\"{folder}/games.json\")) File.WriteAllText($@\"{folder}/games.json\", \"[]\");\n",
    "if (!File.Exists($@\"{folder}/exceptions.txt\")) File.WriteAllText($@\"{folder}/exceptions.txt\", \"\");"
   ]
  }
 ],
 "metadata": {
  "kernelspec": {
   "display_name": ".NET (C#)",
   "language": "C#",
   "name": ".net-csharp"
  },
  "language_info": {
   "name": "python"
  },
  "polyglot_notebook": {
   "kernelInfo": {
    "defaultKernelName": "csharp",
    "items": [
     {
      "aliases": [],
      "name": "csharp"
     }
    ]
   }
  }
 },
 "nbformat": 4,
 "nbformat_minor": 2
}
