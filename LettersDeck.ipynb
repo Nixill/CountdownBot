{
 "cells": [
  {
   "cell_type": "code",
   "execution_count": 6,
   "metadata": {
    "dotnet_interactive": {
     "language": "csharp"
    },
    "polyglot_notebook": {
     "kernelName": "csharp"
    },
    "vscode": {
     "languageId": "polyglot-notebook"
    }
   },
   "outputs": [],
   "source": [
    "Dictionary<char, int> Frequencies = new() {\n",
    "  ['A'] = 15,\n",
    "  ['E'] = 21,\n",
    "  ['I'] = 13,\n",
    "  ['O'] = 13,\n",
    "  ['U'] = 5,\n",
    "\n",
    "  ['B'] = 2,\n",
    "  ['C'] = 3,\n",
    "  ['D'] = 6,\n",
    "  ['F'] = 2,\n",
    "  ['G'] = 3,\n",
    "  ['H'] = 2,\n",
    "  ['J'] = 1,\n",
    "  ['K'] = 1,\n",
    "  ['L'] = 5,\n",
    "  ['M'] = 4,\n",
    "  ['N'] = 8,\n",
    "  ['P'] = 4,\n",
    "  ['Q'] = 1,\n",
    "  ['R'] = 9,\n",
    "  ['S'] = 9,\n",
    "  ['T'] = 9,\n",
    "  ['V'] = 1,\n",
    "  ['W'] = 1,\n",
    "  ['X'] = 1,\n",
    "  ['Y'] = 1,\n",
    "  ['Z'] = 1\n",
    "};\n",
    "\n",
    "Dictionary<char, int> OriginalFrequencies = new(Frequencies);"
   ]
  },
  {
   "cell_type": "code",
   "execution_count": 67,
   "metadata": {
    "vscode": {
     "languageId": "polyglot-notebook"
    }
   },
   "outputs": [
    {
     "name": "stdout",
     "output_type": "stream",
     "text": [
      "G: +1\n",
      "V: +1\n",
      "W: +1\n"
     ]
    }
   ],
   "source": [
    "foreach (var entry in Frequencies)\n",
    "  if (OriginalFrequencies[entry.Key] < entry.Value) Console.WriteLine($\"{entry.Key}: +{entry.Value - OriginalFrequencies[entry.Key]}\");"
   ]
  },
  {
   "cell_type": "code",
   "execution_count": 66,
   "metadata": {
    "vscode": {
     "languageId": "polyglot-notebook"
    }
   },
   "outputs": [],
   "source": [
    "string gameInfo = @\"\n",
    "1 \tSGTDAEOLE \tGLOATED \t7 – 0 \tSTAGED \tDESOLATE, DOGEATES* \t8\n",
    "2 \tSNSIAEDRL \tSNARLED \t14 – 0 \tinsider ☓ \tISLANDERS \t26\n",
    "3 \t100 75 1 4 2 3 → 724 \t725\n",
    "(3 + 4) × 100 + 75 ÷ (2 + 1) \t21 – 0 \t728 \t\n",
    "\n",
    "RR: 724 = (100 + 75 + 3 × 2) × 4\n",
    "\t36\n",
    "TTT \tSKATESIR \tLike Prince, this star became known as a symbol. \tASTERISK\n",
    "4 \tSTRAOIUBV \tTURBOS \t27 – 6 \tBRAVOS \tVIBRATOS, VIRTUOSA* \t44\n",
    "5 \tSBZTEOALC \tTABLES \t33 – 12 \tCLOSET \tOBSTACLE \t52\n",
    "6 \t25 9 5 4 8 6 → 503 \t503\n",
    "5 × 4 × 25 + 9 − 6 \t43 – 22 \t503\n",
    "5 × 4 × 25 + 9 − 6 \t\n",
    "\n",
    "\n",
    "\t62\n",
    "7 \tWPRNIEOEK \tPINKER \t49 – 28 \tWINKER \tPENWORK*, PEREION*, PIONEER, REWOKEN*, WONKIER \t69\n",
    "8 \tNTHIEANDL \tNAILED \t49 – 35 \tTHINNED \tDENTINAL*, HANDLINE \t77\n",
    "9 \t50 25 100 4 10 3 → 894 \t898\n",
    "(10 + 3 − 4) × 100 − 50 ÷ 25 \t56 – 35 \t885 \t\n",
    "\n",
    "RR: 893/895 Best: 895 = (100 − 3) × 10 − 50 − 25\n",
    "\t84\n",
    "TTT \tGULLHOPE \tYou're powerless to act without it. \tPLUGHOLE\n",
    "10 \tGMDEOESPA \tGASPED \t62 – 35 \tgeomaps ☓ \tMEGAPODES \t102\n",
    "11 \tNDTEIGYER \tdetering ☓ \t62 – 35 \tteering ☓ \tREDYEING* \t110\n",
    "12 \tPRSUIUETW \tWRITES \t68 – 35 \tTRUE \tPERITUS*, PISTEUR*, PURSUIT, PUTURES* \t117\n",
    "13 \tTHMSAIEJT\n",
    "\";\n",
    "\n",
    "string lettersThisGame = \"\";\n",
    "foreach (string line in gameInfo.Split(\"\\n\")) {\n",
    "  if (\n",
    "\t\tline.StartsWith(\"1 \\t\") ||\n",
    "\t\tline.StartsWith(\"2 \\t\") ||\n",
    "\t\tline.StartsWith(\"4 \\t\") ||\n",
    "\t\tline.StartsWith(\"5 \\t\") ||\n",
    "\t\tline.StartsWith(\"7 \\t\") ||\n",
    "\t\tline.StartsWith(\"8 \\t\")\n",
    "\t) lettersThisGame += line[3..12];\n",
    "\telse if (\n",
    "\t\tline.StartsWith(\"10 \\t\") ||\n",
    "\t\tline.StartsWith(\"11 \\t\") ||\n",
    "\t\tline.StartsWith(\"12 \\t\") ||\n",
    "\t\tline.StartsWith(\"13 \\t\")\n",
    "\t) lettersThisGame += line[4..13];\n",
    "}\n",
    "\n",
    "var thisGameFreqs = lettersThisGame.Order().ToArray().GroupBy(c => c).Select(g => (Char: g.Key, Count: g.Count()));\n",
    "\n",
    "foreach (var entry in thisGameFreqs)\n",
    "{\n",
    "  if (entry.Count > Frequencies[entry.Char])\n",
    "\t{\n",
    "\t\tConsole.WriteLine($\"{entry.Char} increased from {Frequencies[entry.Char]} to {entry.Count}\");\n",
    "\t\tFrequencies[entry.Char] = entry.Count;\n",
    "\t}\n",
    "}"
   ]
  },
  {
   "cell_type": "code",
   "execution_count": 68,
   "metadata": {
    "vscode": {
     "languageId": "polyglot-notebook"
    }
   },
   "outputs": [
    {
     "name": "stdout",
     "output_type": "stream",
     "text": [
      "AAAAAAAAAAAAAAABBCCCDDDDDDEEEEEEEEEEEEEEEEEEEEEFFGGGGHHIIIIIIIIIIIIIJKLLLLLMMMMNNNNNNNNOOOOOOOOOOOOOPPPPQRRRRRRRRRSSSSSSSSSTTTTTTTTTUUUUUVVWWXYZ"
     ]
    }
   ],
   "source": [
    "foreach (var entry in Frequencies)\n",
    "{\n",
    "  Console.Write(new string(entry.Key, entry.Value));\n",
    "}"
   ]
  }
 ],
 "metadata": {
  "kernelspec": {
   "display_name": ".NET (C#)",
   "language": "C#",
   "name": ".net-csharp"
  },
  "language_info": {
   "name": "python"
  },
  "polyglot_notebook": {
   "kernelInfo": {
    "defaultKernelName": "csharp",
    "items": [
     {
      "aliases": [],
      "name": "csharp"
     }
    ]
   }
  }
 },
 "nbformat": 4,
 "nbformat_minor": 2
}
